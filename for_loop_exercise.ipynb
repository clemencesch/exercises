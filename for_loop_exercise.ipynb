{
 "cells": [
  {
   "cell_type": "markdown",
   "metadata": {},
   "source": [
    "## For loop recap\n",
    "-----"
   ]
  },
  {
   "cell_type": "code",
   "execution_count": 1,
   "metadata": {},
   "outputs": [],
   "source": [
    "# Write a loop that prints numbers from 2 to 5\n",
    "print(2)\n",
    "\n",
    "# Write a loop that prints all odd numbers from 1 to 15 \n",
    "# tip : use the rest division %. Ex : 4 % 2 == 0 ; 5 % 2 == 1 ; 6 % 2 == 0 \n",
    "\n",
    "\n",
    "# Create a list that stores all odd numbers from 1 to 50 but also the string 'Clemence' at the beginning of the list\n",
    "\n",
    "\n",
    "# Create a list that stores all numbers that contain the number 1 in it, from 1 to 101 \n",
    "# tip : you might want to convert your numbers into strings\n",
    "\n",
    "# list comprehension basic example : \n",
    "a_list = [i for i in range(10)]\n",
    "\n",
    "# list comprehension with condition example :\n",
    "a_list = [i for i in range(101) if '1' in str(i)]\n",
    "\n",
    "# Create a list that stores all odd numbers from 1 to 50 with a list comprehension \n"
   ]
  },
  {
   "cell_type": "markdown",
   "metadata": {},
   "source": [
    "## Bonus : Use for loops in functions\n",
    "----"
   ]
  },
  {
   "cell_type": "code",
   "execution_count": 2,
   "metadata": {},
   "outputs": [],
   "source": [
    "# Create a function that returns a list that stores all odd numbers from x to y \n",
    "\n",
    "# Create a function that returns a list that stores all numbers that contain the number 1 in it, from x to y \n",
    "\n",
    "# Create a function that returns a list that stores all numbers that contain the number 1 in it, from x to y and 'Clemence' at the beginning\n",
    "# Bonus bis : add a paramater to activate or deactivate Clemence in the function"
   ]
  },
  {
   "cell_type": "markdown",
   "metadata": {},
   "source": [
    "## Useful function (split)\n",
    "----"
   ]
  },
  {
   "cell_type": "code",
   "execution_count": 14,
   "metadata": {},
   "outputs": [
    {
     "name": "stdout",
     "output_type": "stream",
     "text": [
      "['this', 'is', 'a', 'string']\n",
      "4\n",
      "['thi', ' i', ' a ', 'tring']\n",
      "4\n"
     ]
    }
   ],
   "source": [
    "# how to use split :\n",
    "my_string = 'this is a string'\n",
    "splited_string = my_string.split()\n",
    "print(splited_string)\n",
    "print(len(splited_string))\n",
    "\n",
    "splited_string = my_string.split(sep='s')\n",
    "print(splited_string)\n",
    "print(len(splited_string))"
   ]
  },
  {
   "cell_type": "markdown",
   "metadata": {},
   "source": [
    "## Useful methods : try except\n",
    "----"
   ]
  },
  {
   "cell_type": "code",
   "execution_count": 24,
   "metadata": {},
   "outputs": [
    {
     "name": "stdout",
     "output_type": "stream",
     "text": [
      "cle\n"
     ]
    },
    {
     "ename": "AttributeError",
     "evalue": "'int' object has no attribute 'lower'",
     "output_type": "error",
     "traceback": [
      "\u001b[0;31m---------------------------------------------------------------------------\u001b[0m",
      "\u001b[0;31mAttributeError\u001b[0m                            Traceback (most recent call last)",
      "Cell \u001b[0;32mIn[24], line 4\u001b[0m\n\u001b[1;32m      1\u001b[0m \u001b[38;5;66;03m# When you want to ignore elements that throw errors in a loop, use try except \u001b[39;00m\n\u001b[1;32m      3\u001b[0m \u001b[38;5;28;01mfor\u001b[39;00m i \u001b[38;5;129;01min\u001b[39;00m [\u001b[38;5;124m'\u001b[39m\u001b[38;5;124mCLE\u001b[39m\u001b[38;5;124m'\u001b[39m, \u001b[38;5;241m3\u001b[39m, \u001b[38;5;124m'\u001b[39m\u001b[38;5;124mMENCE\u001b[39m\u001b[38;5;124m'\u001b[39m]:\n\u001b[0;32m----> 4\u001b[0m     \u001b[38;5;28mprint\u001b[39m(\u001b[43mi\u001b[49m\u001b[38;5;241;43m.\u001b[39;49m\u001b[43mlower\u001b[49m())\n",
      "\u001b[0;31mAttributeError\u001b[0m: 'int' object has no attribute 'lower'"
     ]
    }
   ],
   "source": [
    "# When you want to ignore elements that throw errors in a loop, use try except \n",
    "\n",
    "for i in ['CLE', 3, 'MENCE']:\n",
    "    print(i.lower())"
   ]
  },
  {
   "cell_type": "code",
   "execution_count": 25,
   "metadata": {},
   "outputs": [
    {
     "name": "stdout",
     "output_type": "stream",
     "text": [
      "cle\n",
      "mence\n"
     ]
    }
   ],
   "source": [
    "for i in ['Cle', 3, 'mence']:\n",
    "    try:\n",
    "        print(i.lower())\n",
    "    except:\n",
    "        pass "
   ]
  },
  {
   "cell_type": "markdown",
   "metadata": {},
   "source": [
    "## Run through dataframe to find words (for loop)\n",
    "----"
   ]
  },
  {
   "cell_type": "code",
   "execution_count": 6,
   "metadata": {},
   "outputs": [],
   "source": [
    "# import dataframe medsquad.csv with pandas\n",
    "# isolate text col for answer in a variable named answer\n"
   ]
  },
  {
   "cell_type": "code",
   "execution_count": 8,
   "metadata": {},
   "outputs": [],
   "source": [
    "# find the number of times the word 'a' appears in text\n",
    "# tip : you might want to use the split function as well as a try except"
   ]
  }
 ],
 "metadata": {
  "kernelspec": {
   "display_name": ".venv",
   "language": "python",
   "name": "python3"
  },
  "language_info": {
   "codemirror_mode": {
    "name": "ipython",
    "version": 3
   },
   "file_extension": ".py",
   "mimetype": "text/x-python",
   "name": "python",
   "nbconvert_exporter": "python",
   "pygments_lexer": "ipython3",
   "version": "3.10.12"
  }
 },
 "nbformat": 4,
 "nbformat_minor": 2
}
