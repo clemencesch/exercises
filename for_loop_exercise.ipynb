{
 "cells": [
  {
   "cell_type": "markdown",
   "metadata": {},
   "source": [
    "## For loop recap\n",
    "-----"
   ]
  },
  {
   "cell_type": "code",
   "execution_count": null,
   "metadata": {},
   "outputs": [],
   "source": [
    "# Open git bash via windows\n",
    "# Run cd Documents/python_basics/exercises\n",
    "# Run git add for_loop_exercises.ipynb \n",
    "# Run git commit -m \"my message\"\n",
    "# Run git push\n",
    "# Send message to guillaume <3"
   ]
  },
  {
   "cell_type": "code",
   "execution_count": 5,
   "metadata": {},
   "outputs": [
    {
     "name": "stdout",
     "output_type": "stream",
     "text": [
      "2\n",
      "3\n",
      "4\n",
      "5\n",
      "2\n"
     ]
    }
   ],
   "source": [
    "# Write a loop that prints numbers from 2 to 5\n",
    "for i in range (2,6):\n",
    "    print (i)\n",
    "print(2)\n",
    "\n"
   ]
  },
  {
   "cell_type": "code",
   "execution_count": 4,
   "metadata": {},
   "outputs": [
    {
     "name": "stdout",
     "output_type": "stream",
     "text": [
      "1\n",
      "3\n",
      "5\n",
      "7\n",
      "9\n",
      "11\n",
      "13\n",
      "15\n"
     ]
    }
   ],
   "source": [
    "# Write a loop that prints all odd numbers from 1 to 15 \n",
    "# tip : use the rest division %. Ex : 4 % 2 == 0 ; 5 % 2 == 1 ; 6 % 2 == 0 \n",
    "for i in range (1,16):\n",
    "    if i % 2 != 0:\n",
    "        print (i)"
   ]
  },
  {
   "cell_type": "code",
   "execution_count": 89,
   "metadata": {},
   "outputs": [
    {
     "name": "stdout",
     "output_type": "stream",
     "text": [
      "Option 1:\n",
      "[1, 3, 5, 7, 9, 11, 13, 15, 17, 19, 21, 23, 25, 27, 29, 31, 33, 35, 37, 39, 41, 43, 45, 47, 49]\n",
      "['Clemence', 1, 3, 5, 7, 9, 11, 13, 15, 17, 19, 21, 23, 25, 27, 29, 31, 33, 35, 37, 39, 41, 43, 45, 47, 49]\n",
      "\n",
      "Option 2 using list comprehension:\n",
      "[1, 3, 5, 7, 9, 11, 13, 15, 17, 19, 21, 23, 25, 27, 29, 31, 33, 35, 37, 39, 41, 43, 45, 47, 49]\n",
      "['Clemence', 1, 3, 5, 7, 9, 11, 13, 15, 17, 19, 21, 23, 25, 27, 29, 31, 33, 35, 37, 39, 41, 43, 45, 47, 49]\n",
      "\n",
      "Option 3 using deque():\n",
      "[1, 3, 5, 7, 9, 11, 13, 15, 17, 19, 21, 23, 25, 27, 29, 31, 33, 35, 37, 39, 41, 43, 45, 47, 49]\n",
      "['Clemence', 1, 3, 5, 7, 9, 11, 13, 15, 17, 19, 21, 23, 25, 27, 29, 31, 33, 35, 37, 39, 41, 43, 45, 47, 49]\n"
     ]
    }
   ],
   "source": [
    "# Commentaire Clémence : je crois que je me suis compliqué la tâche ici\n",
    "# Create a list that stores all odd numbers from 1 to 50 but also the string 'Clemence' at the beginning of the list\n",
    "#option 1\n",
    "print(\"Option 1:\")\n",
    "list_odds=[]\n",
    "for i in range (1,51):\n",
    "    if i % 2 != 0:\n",
    "        list_odds.append(i)\n",
    "print(list_odds)\n",
    "list_odds.insert(0,\"Clemence\")\n",
    "print (list_odds)\n",
    "\n",
    "#option 2\n",
    "print(\"\")\n",
    "print(\"Option 2 using list comprehension:\")\n",
    "list_odds=[i for i in range (1,51) if i % 2 != 0]\n",
    "print (list_odds)\n",
    "list_odds.insert(0,\"Clemence\")\n",
    "print (list_odds)\n",
    "\n",
    "#option 3 using deque()\n",
    "print(\"\")\n",
    "print(\"Option 3 using deque():\")\n",
    "from collections import deque\n",
    "list_odds=[i for i in range (1,51) if i % 2 != 0]\n",
    "print (list_odds)\n",
    "list_odds=deque(list_odds)\n",
    "list_odds.appendleft(\"Clemence\")\n",
    "list_odds=list(list_odds)\n",
    "print (list_odds)\n"
   ]
  },
  {
   "cell_type": "code",
   "execution_count": 92,
   "metadata": {},
   "outputs": [
    {
     "name": "stdout",
     "output_type": "stream",
     "text": [
      "<class 'str'>\n",
      "<class 'int'>\n",
      "<class 'int'>\n",
      "<class 'int'>\n",
      "<class 'int'>\n",
      "<class 'int'>\n",
      "<class 'int'>\n",
      "<class 'int'>\n",
      "<class 'int'>\n",
      "<class 'int'>\n",
      "<class 'int'>\n",
      "<class 'int'>\n",
      "<class 'int'>\n",
      "<class 'int'>\n",
      "<class 'int'>\n",
      "<class 'int'>\n",
      "<class 'int'>\n",
      "<class 'int'>\n",
      "<class 'int'>\n",
      "<class 'int'>\n",
      "<class 'int'>\n",
      "<class 'int'>\n",
      "<class 'int'>\n",
      "<class 'int'>\n",
      "<class 'int'>\n",
      "<class 'int'>\n",
      "<class 'list'>\n"
     ]
    }
   ],
   "source": [
    "for i in list_odds:\n",
    "    print(type(i))\n",
    "\n",
    "print (type(list_odds))\n",
    "    "
   ]
  },
  {
   "cell_type": "code",
   "execution_count": 51,
   "metadata": {},
   "outputs": [
    {
     "name": "stdout",
     "output_type": "stream",
     "text": [
      "[1, 10, 11, 12, 13, 14, 15, 16, 17, 18, 19, 21, 31, 41, 51, 61, 71, 81, 91, 100, 101]\n",
      "[0, 1, 2, 3, 4, 5, 6, 7, 8, 9]\n",
      "[1, 10, 11, 12, 13, 14, 15, 16, 17, 18, 19, 21, 31, 41, 51, 61, 71, 81, 91, 100]\n",
      "[1, 3, 5, 7, 9, 11, 13, 15, 17, 19, 21, 23, 25, 27, 29, 31, 33, 35, 37, 39, 41, 43, 45, 47, 49]\n"
     ]
    }
   ],
   "source": [
    "# Create a list that stores all numbers that contain the number 1 in it, from 1 to 101 \n",
    "# tip : you might want to convert your numbers into strings\n",
    "list_one=[i for i in range (1,102) if '1' in str(i)]\n",
    "print(list_one)\n",
    "\n",
    "# list comprehension basic example : \n",
    "a_list = [i for i in range(10)]\n",
    "print(a_list)\n",
    "\n",
    "# list comprehension with condition example :\n",
    "a_list = [i for i in range(101) if '1' in str(i)]\n",
    "print(a_list)\n",
    "\n",
    "# Create a list that stores all odd numbers from 1 to 50 with a list comprehension \n",
    "list_oddsbis=[i for i in range (50) if i % 2 != 0]\n",
    "print (list_oddsbis)"
   ]
  },
  {
   "cell_type": "markdown",
   "metadata": {},
   "source": [
    "## Bonus : Use for loops in functions\n",
    "----"
   ]
  },
  {
   "cell_type": "code",
   "execution_count": 16,
   "metadata": {},
   "outputs": [
    {
     "name": "stdout",
     "output_type": "stream",
     "text": [
      "Option 1 with for loop:\n",
      "[1, 3, 5, 7, 9, 11, 13, 15, 17, 19, 21, 23, 25, 27, 29, 31, 33, 35, 37, 39, 41, 43, 45, 47, 49]\n",
      "\n",
      "Option 2 with list comprehension:\n",
      "[1, 3, 5, 7, 9, 11, 13, 15, 17, 19, 21, 23, 25, 27, 29, 31, 33, 35, 37, 39, 41, 43, 45, 47, 49]\n"
     ]
    }
   ],
   "source": [
    "# Create a function that returns a list that stores all odd numbers from x to y \n",
    "print (\"Option 1 with for loop:\")\n",
    "def odd_numbers(my_list=[]):\n",
    "    my_list=[]\n",
    "    for i in range (50):\n",
    "        if i %2 != 0:\n",
    "            my_list.append(i)\n",
    "    return my_list\n",
    "print(odd_numbers())\n",
    "\n",
    "\n",
    "#option 2\n",
    "print (\"\")\n",
    "print (\"Option 2 with list comprehension:\")\n",
    "def odd_numbers():\n",
    "    return [i for i in range (1,50) if i % 2 != 0]\n",
    "print(odd_numbers())"
   ]
  },
  {
   "cell_type": "code",
   "execution_count": 95,
   "metadata": {},
   "outputs": [
    {
     "name": "stdout",
     "output_type": "stream",
     "text": [
      "[1, 10, 11, 12, 13, 14, 15, 16, 17, 18, 19, 21, 31, 41]\n"
     ]
    }
   ],
   "source": [
    "# Create a function that returns a list that stores all numbers that contain the number 1 in it, from x to y \n",
    "def only_one():\n",
    "    return [i for i in range (1,50) if '1' in str(i)]\n",
    "list_ones=only_one()\n",
    "print (list_ones)"
   ]
  },
  {
   "cell_type": "code",
   "execution_count": 20,
   "metadata": {},
   "outputs": [
    {
     "name": "stdout",
     "output_type": "stream",
     "text": [
      "Option 1\n",
      "['Clemence', 1, 10, 11, 12, 13, 14, 15, 16, 17, 18, 19, 21, 31, 41]\n",
      "<class 'function'>\n",
      "\n",
      "Option 2\n",
      "['Clemence', 1, 10, 11, 12, 13, 14, 15, 16, 17, 18, 19, 21, 31, 41]\n",
      "<class 'function'>\n",
      "\n",
      "parameter to deactivate clemence\n",
      "[1, 10, 11, 12, 13, 14, 15, 16, 17, 18, 19, 21, 31, 41]\n",
      "<class 'function'>\n"
     ]
    }
   ],
   "source": [
    "# Create a function that returns a list that stores all numbers that contain the number 1 in it, from x to y and 'Clemence' at the beginning\n",
    "# Bonus bis : add a paramater to activate or deactivate Clemence in the function\n",
    "# Commentaire Clémence -> not sure I fully understood what was expected in bonus bis\n",
    "\n",
    "#option 1\n",
    "print (\"Option 1\")\n",
    "def clemence_list(my_list=[]):\n",
    "    for i in range (50):\n",
    "        if '1' in str(i):\n",
    "            my_list.append(i)\n",
    "    my_list.insert(0,\"Clemence\")        \n",
    "    return my_list\n",
    "print (clemence_list())\n",
    "print (type(clemence_list))\n",
    "\n",
    "#option 2\n",
    "print (\"\")\n",
    "print (\"Option 2\")\n",
    "def clemence_list():\n",
    "    my_list=[]\n",
    "    for i in range (50):\n",
    "        if '1' in str(i):\n",
    "            my_list.append(i)\n",
    "    my_list.insert(0,\"Clemence\")      \n",
    "    return my_list\n",
    "print (clemence_list())\n",
    "print (type(clemence_list))\n",
    "\n",
    "# maybe here? https://realpython.com/python-optional-arguments/\n",
    "# Bonus bis : add a paramater to activate or deactivate Clemence in the function\n",
    "print (\"\")\n",
    "print (\"parameter to deactivate clemence\")\n",
    "def clemence_list():\n",
    "    my_list=[]\n",
    "    for i in range (50):\n",
    "        if '1' in str(i):\n",
    "            my_list.append(i)\n",
    "    my_list.insert(0,\"Clemence\") \n",
    "    my_list.pop(0)     \n",
    "    return my_list\n",
    "print (clemence_list())\n",
    "print (type(clemence_list))"
   ]
  },
  {
   "cell_type": "markdown",
   "metadata": {},
   "source": [
    "## Useful function (split)\n",
    "----"
   ]
  },
  {
   "cell_type": "code",
   "execution_count": 14,
   "metadata": {},
   "outputs": [
    {
     "name": "stdout",
     "output_type": "stream",
     "text": [
      "['this', 'is', 'a', 'string']\n",
      "4\n",
      "['thi', ' i', ' a ', 'tring']\n",
      "4\n"
     ]
    }
   ],
   "source": [
    "# how to use split :\n",
    "my_string = 'this is a string'\n",
    "splited_string = my_string.split()\n",
    "print(splited_string)\n",
    "print(len(splited_string))\n",
    "\n",
    "splited_string = my_string.split(sep='s')\n",
    "print(splited_string)\n",
    "print(len(splited_string))"
   ]
  },
  {
   "cell_type": "markdown",
   "metadata": {},
   "source": [
    "## Useful methods : try except\n",
    "----"
   ]
  },
  {
   "cell_type": "code",
   "execution_count": 24,
   "metadata": {},
   "outputs": [
    {
     "name": "stdout",
     "output_type": "stream",
     "text": [
      "cle\n"
     ]
    },
    {
     "ename": "AttributeError",
     "evalue": "'int' object has no attribute 'lower'",
     "output_type": "error",
     "traceback": [
      "\u001b[0;31m---------------------------------------------------------------------------\u001b[0m",
      "\u001b[0;31mAttributeError\u001b[0m                            Traceback (most recent call last)",
      "Cell \u001b[0;32mIn[24], line 4\u001b[0m\n\u001b[1;32m      1\u001b[0m \u001b[38;5;66;03m# When you want to ignore elements that throw errors in a loop, use try except \u001b[39;00m\n\u001b[1;32m      3\u001b[0m \u001b[38;5;28;01mfor\u001b[39;00m i \u001b[38;5;129;01min\u001b[39;00m [\u001b[38;5;124m'\u001b[39m\u001b[38;5;124mCLE\u001b[39m\u001b[38;5;124m'\u001b[39m, \u001b[38;5;241m3\u001b[39m, \u001b[38;5;124m'\u001b[39m\u001b[38;5;124mMENCE\u001b[39m\u001b[38;5;124m'\u001b[39m]:\n\u001b[0;32m----> 4\u001b[0m     \u001b[38;5;28mprint\u001b[39m(\u001b[43mi\u001b[49m\u001b[38;5;241;43m.\u001b[39;49m\u001b[43mlower\u001b[49m())\n",
      "\u001b[0;31mAttributeError\u001b[0m: 'int' object has no attribute 'lower'"
     ]
    }
   ],
   "source": [
    "# When you want to ignore elements that throw errors in a loop, use try except \n",
    "\n",
    "for i in ['CLE', 3, 'MENCE']:\n",
    "    print(i.lower())"
   ]
  },
  {
   "cell_type": "code",
   "execution_count": 25,
   "metadata": {},
   "outputs": [
    {
     "name": "stdout",
     "output_type": "stream",
     "text": [
      "cle\n",
      "mence\n"
     ]
    }
   ],
   "source": [
    "for i in ['Cle', 3, 'mence']:\n",
    "    try:\n",
    "        print(i.lower())\n",
    "    except:\n",
    "        pass "
   ]
  },
  {
   "cell_type": "markdown",
   "metadata": {},
   "source": [
    "## Run through dataframe to find words (for loop)\n",
    "----"
   ]
  },
  {
   "cell_type": "code",
   "execution_count": 3,
   "metadata": {},
   "outputs": [
    {
     "data": {
      "text/html": [
       "<div>\n",
       "<style scoped>\n",
       "    .dataframe tbody tr th:only-of-type {\n",
       "        vertical-align: middle;\n",
       "    }\n",
       "\n",
       "    .dataframe tbody tr th {\n",
       "        vertical-align: top;\n",
       "    }\n",
       "\n",
       "    .dataframe thead th {\n",
       "        text-align: right;\n",
       "    }\n",
       "</style>\n",
       "<table border=\"1\" class=\"dataframe\">\n",
       "  <thead>\n",
       "    <tr style=\"text-align: right;\">\n",
       "      <th></th>\n",
       "      <th>question</th>\n",
       "      <th>answer</th>\n",
       "      <th>source</th>\n",
       "      <th>focus_area</th>\n",
       "    </tr>\n",
       "  </thead>\n",
       "  <tbody>\n",
       "    <tr>\n",
       "      <th>0</th>\n",
       "      <td>What is (are) Glaucoma ?</td>\n",
       "      <td>Glaucoma is a group of diseases that can damag...</td>\n",
       "      <td>NIHSeniorHealth</td>\n",
       "      <td>Glaucoma</td>\n",
       "    </tr>\n",
       "    <tr>\n",
       "      <th>1</th>\n",
       "      <td>What causes Glaucoma ?</td>\n",
       "      <td>Nearly 2.7 million people have glaucoma, a lea...</td>\n",
       "      <td>NIHSeniorHealth</td>\n",
       "      <td>Glaucoma</td>\n",
       "    </tr>\n",
       "    <tr>\n",
       "      <th>2</th>\n",
       "      <td>What are the symptoms of Glaucoma ?</td>\n",
       "      <td>Symptoms of Glaucoma  Glaucoma can develop in ...</td>\n",
       "      <td>NIHSeniorHealth</td>\n",
       "      <td>Glaucoma</td>\n",
       "    </tr>\n",
       "    <tr>\n",
       "      <th>3</th>\n",
       "      <td>What are the treatments for Glaucoma ?</td>\n",
       "      <td>Although open-angle glaucoma cannot be cured, ...</td>\n",
       "      <td>NIHSeniorHealth</td>\n",
       "      <td>Glaucoma</td>\n",
       "    </tr>\n",
       "    <tr>\n",
       "      <th>4</th>\n",
       "      <td>What is (are) Glaucoma ?</td>\n",
       "      <td>Glaucoma is a group of diseases that can damag...</td>\n",
       "      <td>NIHSeniorHealth</td>\n",
       "      <td>Glaucoma</td>\n",
       "    </tr>\n",
       "    <tr>\n",
       "      <th>...</th>\n",
       "      <td>...</td>\n",
       "      <td>...</td>\n",
       "      <td>...</td>\n",
       "      <td>...</td>\n",
       "    </tr>\n",
       "    <tr>\n",
       "      <th>16407</th>\n",
       "      <td>What is (are) Diabetic Neuropathies: The Nerve...</td>\n",
       "      <td>Focal neuropathy appears suddenly and affects ...</td>\n",
       "      <td>NIDDK</td>\n",
       "      <td>Diabetic Neuropathies: The Nerve Damage of Dia...</td>\n",
       "    </tr>\n",
       "    <tr>\n",
       "      <th>16408</th>\n",
       "      <td>How to prevent Diabetic Neuropathies: The Nerv...</td>\n",
       "      <td>The best way to prevent neuropathy is to keep ...</td>\n",
       "      <td>NIDDK</td>\n",
       "      <td>Diabetic Neuropathies: The Nerve Damage of Dia...</td>\n",
       "    </tr>\n",
       "    <tr>\n",
       "      <th>16409</th>\n",
       "      <td>How to diagnose Diabetic Neuropathies: The Ner...</td>\n",
       "      <td>Doctors diagnose neuropathy on the basis of sy...</td>\n",
       "      <td>NIDDK</td>\n",
       "      <td>Diabetic Neuropathies: The Nerve Damage of Dia...</td>\n",
       "    </tr>\n",
       "    <tr>\n",
       "      <th>16410</th>\n",
       "      <td>What are the treatments for Diabetic Neuropath...</td>\n",
       "      <td>The first treatment step is to bring blood glu...</td>\n",
       "      <td>NIDDK</td>\n",
       "      <td>Diabetic Neuropathies: The Nerve Damage of Dia...</td>\n",
       "    </tr>\n",
       "    <tr>\n",
       "      <th>16411</th>\n",
       "      <td>What to do for Diabetic Neuropathies: The Nerv...</td>\n",
       "      <td>- Diabetic neuropathies are nerve disorders ca...</td>\n",
       "      <td>NIDDK</td>\n",
       "      <td>Diabetic Neuropathies: The Nerve Damage of Dia...</td>\n",
       "    </tr>\n",
       "  </tbody>\n",
       "</table>\n",
       "<p>16412 rows × 4 columns</p>\n",
       "</div>"
      ],
      "text/plain": [
       "                                                question  \\\n",
       "0                               What is (are) Glaucoma ?   \n",
       "1                                 What causes Glaucoma ?   \n",
       "2                    What are the symptoms of Glaucoma ?   \n",
       "3                 What are the treatments for Glaucoma ?   \n",
       "4                               What is (are) Glaucoma ?   \n",
       "...                                                  ...   \n",
       "16407  What is (are) Diabetic Neuropathies: The Nerve...   \n",
       "16408  How to prevent Diabetic Neuropathies: The Nerv...   \n",
       "16409  How to diagnose Diabetic Neuropathies: The Ner...   \n",
       "16410  What are the treatments for Diabetic Neuropath...   \n",
       "16411  What to do for Diabetic Neuropathies: The Nerv...   \n",
       "\n",
       "                                                  answer           source  \\\n",
       "0      Glaucoma is a group of diseases that can damag...  NIHSeniorHealth   \n",
       "1      Nearly 2.7 million people have glaucoma, a lea...  NIHSeniorHealth   \n",
       "2      Symptoms of Glaucoma  Glaucoma can develop in ...  NIHSeniorHealth   \n",
       "3      Although open-angle glaucoma cannot be cured, ...  NIHSeniorHealth   \n",
       "4      Glaucoma is a group of diseases that can damag...  NIHSeniorHealth   \n",
       "...                                                  ...              ...   \n",
       "16407  Focal neuropathy appears suddenly and affects ...            NIDDK   \n",
       "16408  The best way to prevent neuropathy is to keep ...            NIDDK   \n",
       "16409  Doctors diagnose neuropathy on the basis of sy...            NIDDK   \n",
       "16410  The first treatment step is to bring blood glu...            NIDDK   \n",
       "16411  - Diabetic neuropathies are nerve disorders ca...            NIDDK   \n",
       "\n",
       "                                              focus_area  \n",
       "0                                               Glaucoma  \n",
       "1                                               Glaucoma  \n",
       "2                                               Glaucoma  \n",
       "3                                               Glaucoma  \n",
       "4                                               Glaucoma  \n",
       "...                                                  ...  \n",
       "16407  Diabetic Neuropathies: The Nerve Damage of Dia...  \n",
       "16408  Diabetic Neuropathies: The Nerve Damage of Dia...  \n",
       "16409  Diabetic Neuropathies: The Nerve Damage of Dia...  \n",
       "16410  Diabetic Neuropathies: The Nerve Damage of Dia...  \n",
       "16411  Diabetic Neuropathies: The Nerve Damage of Dia...  \n",
       "\n",
       "[16412 rows x 4 columns]"
      ]
     },
     "execution_count": 3,
     "metadata": {},
     "output_type": "execute_result"
    }
   ],
   "source": [
    "# import dataframe medsquad.csv with pandas\n",
    "\n",
    "\n",
    "import pandas as pd\n",
    "df = pd.read_csv (\"medquad.csv\")\n",
    "df"
   ]
  },
  {
   "cell_type": "code",
   "execution_count": 10,
   "metadata": {},
   "outputs": [
    {
     "data": {
      "text/plain": [
       "pandas.core.series.Series"
      ]
     },
     "execution_count": 10,
     "metadata": {},
     "output_type": "execute_result"
    }
   ],
   "source": [
    "# isolate text col for answer in a variable named answer\n",
    "answer = df.iloc[:,1]\n",
    "answer\n",
    "type(answer)"
   ]
  },
  {
   "cell_type": "code",
   "execution_count": 37,
   "metadata": {},
   "outputs": [
    {
     "name": "stdout",
     "output_type": "stream",
     "text": [
      "Step 1: transforming series into string and splitting string\n",
      "['0', 'Glaucoma', 'is', 'a', 'group', 'of', 'diseases', 'that', 'can', 'damag...', '1', 'Nearly', '2.7', 'million', 'people', 'have', 'glaucoma,', 'a', 'lea...', '2', 'Symptoms', 'of', 'Glaucoma', 'Glaucoma', 'can', 'develop', 'in', '...', '3', 'Although', 'open-angle', 'glaucoma', 'cannot', 'be', 'cured,', '...', '4', 'Glaucoma', 'is', 'a', 'group', 'of', 'diseases', 'that', 'can', 'damag...', '...', '16407', 'Focal', 'neuropathy', 'appears', 'suddenly', 'and', 'affects', '...', '16408', 'The', 'best', 'way', 'to', 'prevent', 'neuropathy', 'is', 'to', 'keep', '...', '16409', 'Doctors', 'diagnose', 'neuropathy', 'on', 'the', 'basis', 'of', 'sy...', '16410', 'The', 'first', 'treatment', 'step', 'is', 'to', 'bring', 'blood', 'glu...', '16411', '-', 'Diabetic', 'neuropathies', 'are', 'nerve', 'disorders', 'ca...', 'Name:', 'answer,', 'Length:', '16412,', 'dtype:', 'object']\n",
      "\n",
      "Step 2\n",
      "Option 1 to count # of word a in col answer w/ for loop\n",
      "The word 'a' appears 3 times in the column answer\n",
      "\n",
      "Option 2 to count # of word a in col answer w/ function\n",
      "The word 'a' appears 3 times in the column answer\n"
     ]
    }
   ],
   "source": [
    "# find the number of times the word 'a' appears in text\n",
    "# tip : you might want to use the split function as well as a try except\n",
    "\n",
    "print (\"Step 1: transforming series into string and splitting string\")\n",
    "splited_answer = str(answer).split() \n",
    "print (splited_answer)\n",
    "\n",
    "print (\"\")\n",
    "print (\"Step 2\")\n",
    "print (\"Option 1 to count # of word a in col answer w/ for loop\")\n",
    "\n",
    "count = 0\n",
    "for i in splited_answer:\n",
    "    if i == \"a\":\n",
    "        count += 1\n",
    "print(f\"The word 'a' appears {count} times in the column answer\")\n",
    "\n",
    "print (\"\")\n",
    "print (\"Option 2 to count # of word a in col answer w/ function\")\n",
    "count_bis=splited_answer.count(\"a\")\n",
    "print(f\"The word 'a' appears {count_bis} times in the column answer\")\n",
    "    "
   ]
  },
  {
   "cell_type": "code",
   "execution_count": null,
   "metadata": {},
   "outputs": [],
   "source": []
  }
 ],
 "metadata": {
  "kernelspec": {
   "display_name": ".venv",
   "language": "python",
   "name": "python3"
  },
  "language_info": {
   "codemirror_mode": {
    "name": "ipython",
    "version": 3
   },
   "file_extension": ".py",
   "mimetype": "text/x-python",
   "name": "python",
   "nbconvert_exporter": "python",
   "pygments_lexer": "ipython3",
   "version": "3.11.5"
  }
 },
 "nbformat": 4,
 "nbformat_minor": 2
}
